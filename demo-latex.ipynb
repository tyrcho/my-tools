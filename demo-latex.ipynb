
$\lnot\ \exists{x}{\in}\mathbf{X}\, P(x) \equiv\ \forall{x}{\in}\mathbf{X}\, \lnot P(x)$

# UML diagrams

![Alt text](http://g.gravizo.com/g?
@startuml;
Object <|-- ArrayList;
Object : equals%28%29;
ArrayList : Object[] elementData;
ArrayList : size%28%29;
@enduml
)

see http://www.dilek.me/uml/plantuml/markdown/2016/01/15/Uml-diagrams-in-Markdown-pages/
